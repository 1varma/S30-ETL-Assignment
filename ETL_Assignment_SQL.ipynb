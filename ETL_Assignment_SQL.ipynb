{
 "cells": [
  {
   "cell_type": "code",
   "execution_count": 1,
   "id": "99a0ef2d",
   "metadata": {},
   "outputs": [],
   "source": [
    "import pandas as pd"
   ]
  },
  {
   "cell_type": "code",
   "execution_count": 2,
   "id": "a2e8047c",
   "metadata": {},
   "outputs": [],
   "source": [
    "import sqlite3\n",
    "import csv"
   ]
  },
  {
   "cell_type": "code",
   "execution_count": 3,
   "id": "00e3c591",
   "metadata": {},
   "outputs": [],
   "source": [
    "connection = sqlite3.connect('S30 ETL Assignment.db')"
   ]
  },
  {
   "cell_type": "code",
   "execution_count": 4,
   "id": "53178251",
   "metadata": {},
   "outputs": [],
   "source": [
    "cursor = connection.execute(\"select customers.customer_id, cast(sum(orders.quantity) as int) as Total_Quantity, items.item_name, customers.age from customers inner join sales on customers.customer_id = sales.customer_id inner join orders on sales.sales_id = orders.sales_id inner join items on items.item_id = orders.item_id where (customers.age between 18 and 32) and (orders.quantity is not null) group by customers.customer_id, items.item_name, customers.age order by customers.customer_id;\")"
   ]
  },
  {
   "cell_type": "code",
   "execution_count": 5,
   "id": "704f4d7e",
   "metadata": {},
   "outputs": [
    {
     "name": "stdout",
     "output_type": "stream",
     "text": [
      "(5, 3, 'x', 18)\n",
      "(5, 3, 'y', 18)\n",
      "(5, 4, 'z', 18)\n",
      "(7, 14, 'x', 30)\n",
      "(7, 19, 'y', 30)\n",
      "(7, 10, 'z', 30)\n",
      "(9, 5, 'x', 25)\n",
      "(9, 2, 'y', 25)\n",
      "(9, 4, 'z', 25)\n",
      "(16, 5, 'x', 19)\n",
      "(16, 4, 'y', 19)\n",
      "(16, 8, 'z', 19)\n",
      "(22, 5, 'x', 18)\n",
      "(22, 5, 'y', 18)\n",
      "(22, 3, 'z', 18)\n",
      "(28, 3, 'x', 21)\n",
      "(28, 1, 'z', 21)\n",
      "(29, 5, 'x', 30)\n",
      "(29, 12, 'y', 30)\n",
      "(29, 12, 'z', 30)\n",
      "(31, 6, 'x', 22)\n",
      "(31, 7, 'y', 22)\n",
      "(31, 12, 'z', 22)\n",
      "(34, 5, 'x', 22)\n",
      "(34, 6, 'y', 22)\n",
      "(34, 5, 'z', 22)\n",
      "(35, 3, 'x', 20)\n",
      "(35, 5, 'y', 20)\n",
      "(35, 2, 'z', 20)\n",
      "(41, 2, 'x', 21)\n",
      "(41, 4, 'y', 21)\n",
      "(41, 6, 'z', 21)\n",
      "(50, 2, 'y', 31)\n",
      "(50, 1, 'z', 31)\n",
      "(58, 5, 'x', 30)\n",
      "(58, 2, 'y', 30)\n",
      "(58, 4, 'z', 30)\n",
      "(59, 7, 'x', 24)\n",
      "(59, 4, 'y', 24)\n",
      "(59, 5, 'z', 24)\n",
      "(68, 5, 'x', 32)\n",
      "(68, 5, 'y', 32)\n",
      "(68, 3, 'z', 32)\n",
      "(70, 5, 'x', 29)\n",
      "(70, 6, 'y', 29)\n",
      "(70, 1, 'z', 29)\n",
      "(78, 9, 'x', 19)\n",
      "(78, 8, 'y', 19)\n",
      "(78, 3, 'z', 19)\n",
      "(79, 5, 'x', 26)\n",
      "(79, 4, 'y', 26)\n",
      "(79, 7, 'z', 26)\n",
      "(80, 5, 'x', 23)\n",
      "(80, 5, 'y', 23)\n",
      "(80, 6, 'z', 23)\n",
      "(90, 6, 'x', 19)\n",
      "(90, 3, 'y', 19)\n",
      "(90, 5, 'z', 19)\n",
      "(97, 2, 'x', 23)\n",
      "(97, 2, 'y', 23)\n",
      "(97, 3, 'z', 23)\n",
      "(100, 1, 'x', 30)\n",
      "(100, 1, 'y', 30)\n",
      "(100, 5, 'z', 30)\n"
     ]
    }
   ],
   "source": [
    "for row in cursor:\n",
    "    print(row)"
   ]
  },
  {
   "cell_type": "code",
   "execution_count": 6,
   "id": "27d407e2",
   "metadata": {},
   "outputs": [],
   "source": [
    "cursor.execute(\"select customers.customer_id, cast(sum(orders.quantity) as int) as Total_Quantity, items.item_name, customers.age from customers inner join sales on customers.customer_id = sales.customer_id inner join orders on sales.sales_id = orders.sales_id inner join items on items.item_id = orders.item_id where (customers.age between 18 and 35) and (orders.quantity is not null) group by customers.customer_id, items.item_name, customers.age order by customers.customer_id;\")\n",
    "with open(\"sql_result.csv\", \"w\",newline='') as csv_file:\n",
    "    csv_writer = csv.writer(csv_file, delimiter=\";\")\n",
    "    csv_writer.writerow([i[0] for i in cursor.description])\n",
    "    csv_writer.writerows(cursor)"
   ]
  },
  {
   "cell_type": "code",
   "execution_count": null,
   "id": "36c06f72",
   "metadata": {},
   "outputs": [],
   "source": []
  }
 ],
 "metadata": {
  "kernelspec": {
   "display_name": "Python 3 (ipykernel)",
   "language": "python",
   "name": "python3"
  },
  "language_info": {
   "codemirror_mode": {
    "name": "ipython",
    "version": 3
   },
   "file_extension": ".py",
   "mimetype": "text/x-python",
   "name": "python",
   "nbconvert_exporter": "python",
   "pygments_lexer": "ipython3",
   "version": "3.11.0"
  }
 },
 "nbformat": 4,
 "nbformat_minor": 5
}
